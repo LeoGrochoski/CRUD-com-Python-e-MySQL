{
 "cells": [
  {
   "cell_type": "markdown",
   "metadata": {},
   "source": [
    "# CRUD com Python e MySQL"
   ]
  },
  {
   "cell_type": "code",
   "execution_count": 2,
   "metadata": {},
   "outputs": [
    {
     "name": "stdout",
     "output_type": "stream",
     "text": [
      "Requirement already satisfied: mysql-connector-python in c:\\anaconda3\\lib\\site-packages (8.2.0)\n",
      "Requirement already satisfied: protobuf<=4.21.12,>=4.21.1 in c:\\anaconda3\\lib\\site-packages (from mysql-connector-python) (4.21.12)\n",
      "Note: you may need to restart the kernel to use updated packages.\n"
     ]
    }
   ],
   "source": [
    "pip install mysql-connector-python"
   ]
  },
  {
   "cell_type": "code",
   "execution_count": 1,
   "metadata": {},
   "outputs": [],
   "source": [
    "import mysql.connector"
   ]
  },
  {
   "cell_type": "code",
   "execution_count": 2,
   "metadata": {},
   "outputs": [],
   "source": [
    "conexao = mysql.connector.connect(\n",
    "    host='localhost',\n",
    "    user='root',\n",
    "    password='senha@mysql',\n",
    "    database='crud_python'\n",
    ")\n",
    "\n",
    "cursor = conexao.cursor()\n"
   ]
  },
  {
   "cell_type": "code",
   "execution_count": null,
   "metadata": {},
   "outputs": [],
   "source": [
    "# Criando banco de dados\n",
    "\n",
    "comando = f'CREATE DATABASE IF NOT EXISTS crud_python'\n",
    "\n",
    "cursor.execute(comando)"
   ]
  },
  {
   "cell_type": "code",
   "execution_count": null,
   "metadata": {},
   "outputs": [],
   "source": [
    "# Selecionando o banco para uso\n",
    "\n",
    "comando = f'USE nome_do_banco'\n",
    "\n",
    "cursor.execute(comando)"
   ]
  },
  {
   "cell_type": "code",
   "execution_count": null,
   "metadata": {},
   "outputs": [],
   "source": [
    "# Criando tabela no banco\n",
    "\n",
    "comando = f'CREATE TABLE IF NOT EXISTS vendas ( ID_VENDAS INT PRIMARY KEY, NOME_PRODUTO VARCHAR(255), VALOR DECIMAL(10, 2))'\n",
    "\n",
    "cursor.execute(comando)\n",
    "\n",
    "conexao.commit() "
   ]
  },
  {
   "cell_type": "code",
   "execution_count": 6,
   "metadata": {},
   "outputs": [
    {
     "ename": "NameError",
     "evalue": "name 'nome_produto' is not defined",
     "output_type": "error",
     "traceback": [
      "\u001b[1;31m---------------------------------------------------------------------------\u001b[0m",
      "\u001b[1;31mNameError\u001b[0m                                 Traceback (most recent call last)",
      "Cell \u001b[1;32mIn[6], line 6\u001b[0m\n\u001b[0;32m      3\u001b[0m NOME_PRODUTO \u001b[38;5;241m=\u001b[39m \u001b[38;5;124m\"\u001b[39m\u001b[38;5;124mchocolate\u001b[39m\u001b[38;5;124m\"\u001b[39m\n\u001b[0;32m      4\u001b[0m VALOR \u001b[38;5;241m=\u001b[39m \u001b[38;5;241m15\u001b[39m\n\u001b[1;32m----> 6\u001b[0m comando \u001b[38;5;241m=\u001b[39m \u001b[38;5;124mf\u001b[39m\u001b[38;5;124m'\u001b[39m\u001b[38;5;124mINSERT INTO vendas (nome_produto, valor) VALUES (\u001b[39m\u001b[38;5;124m\"\u001b[39m\u001b[38;5;132;01m{\u001b[39;00mnome_produto\u001b[38;5;132;01m}\u001b[39;00m\u001b[38;5;124m\"\u001b[39m\u001b[38;5;124m, \u001b[39m\u001b[38;5;132;01m{\u001b[39;00mvalor\u001b[38;5;132;01m}\u001b[39;00m\u001b[38;5;124m)\u001b[39m\u001b[38;5;124m'\u001b[39m\n\u001b[0;32m      8\u001b[0m cursor\u001b[38;5;241m.\u001b[39mexecute(comando)\n\u001b[0;32m     10\u001b[0m conexao\u001b[38;5;241m.\u001b[39mcommit() \n",
      "\u001b[1;31mNameError\u001b[0m: name 'nome_produto' is not defined"
     ]
    }
   ],
   "source": [
    "\n",
    "# 1. Criando informações no Banco\n",
    "\n",
    "NOME_PRODUTO = \"MOLHO DE TOMATE\"\n",
    "VALOR = 8\n",
    "\n",
    "comando = f'INSERT INTO produtos (NOME_PRODUTO, VALOR) VALUES (\"{NOME_PRODUTO}\", {VALOR})'\n",
    "\n",
    "cursor.execute(comando)\n",
    "\n",
    "conexao.commit() \n"
   ]
  },
  {
   "cell_type": "code",
   "execution_count": 3,
   "metadata": {},
   "outputs": [],
   "source": [
    "NOME_PRODUTO = \"CHOCOLATE\"\n",
    "VALOR = 12\n",
    "\n",
    "comando = f'INSERT INTO produtos (NOME_PRODUTO, VALOR) VALUES (\"{NOME_PRODUTO}\", {VALOR})'\n",
    "\n",
    "cursor.execute(comando)\n",
    "\n",
    "conexao.commit() "
   ]
  },
  {
   "cell_type": "code",
   "execution_count": 4,
   "metadata": {},
   "outputs": [
    {
     "name": "stdout",
     "output_type": "stream",
     "text": [
      "[(2, 'MOLHO DE TOMATE', '8'), (3, 'CHOCOLATE', '12')]\n"
     ]
    }
   ],
   "source": [
    "# 2. Lendo informações do banco de dados\n",
    "\n",
    "comando = f'SELECT * FROM produtos'\n",
    "\n",
    "cursor.execute(comando)\n",
    "resultado = cursor.fetchall() # ler o banco de dados\n",
    "\n",
    "print(resultado)"
   ]
  },
  {
   "cell_type": "code",
   "execution_count": 8,
   "metadata": {},
   "outputs": [],
   "source": [
    "# 3. Atualizando informações no banco de dados\n",
    "\n",
    "NOME_PRODUTO = \"MOLHO DE TOMATE\"\n",
    "VALOR = 8\n",
    "\n",
    "comando = f'UPDATE produtos SET VALOR = {VALOR} WHERE NOME_PRODUTO = \"{NOME_PRODUTO}\"'\n",
    "\n",
    "cursor.execute(comando)\n",
    "\n",
    "conexao.commit()"
   ]
  },
  {
   "cell_type": "code",
   "execution_count": 9,
   "metadata": {},
   "outputs": [],
   "source": [
    "# 4. Deletando informações do banco de dados\n",
    "\n",
    "NOME_PRODUTO = \"CHOCOLATE\"\n",
    "\n",
    "comando = f'DELETE FROM produtos WHERE nome_produto = \"{NOME_PRODUTO}\"'\n",
    "\n",
    "cursor.execute(comando)\n",
    "\n",
    "conexao.commit()"
   ]
  }
 ],
 "metadata": {
  "kernelspec": {
   "display_name": "base",
   "language": "python",
   "name": "python3"
  },
  "language_info": {
   "codemirror_mode": {
    "name": "ipython",
    "version": 3
   },
   "file_extension": ".py",
   "mimetype": "text/x-python",
   "name": "python",
   "nbconvert_exporter": "python",
   "pygments_lexer": "ipython3",
   "version": "3.11.5"
  }
 },
 "nbformat": 4,
 "nbformat_minor": 2
}
